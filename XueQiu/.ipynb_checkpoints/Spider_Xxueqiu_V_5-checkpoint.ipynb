{
 "cells": [
  {
   "cell_type": "code",
   "execution_count": 17,
   "metadata": {},
   "outputs": [],
   "source": [
    "import time\n",
    "import requests\n",
    "from datetime import datetime, timedelta\n",
    "from bs4 import BeautifulSoup\n",
    "from fake_useragent import UserAgent\n",
    "import re\n",
    "import json \n",
    "import warnings\n",
    "import pandas as pd \n",
    "import pymysql\n",
    "warnings.filterwarnings('ignore')"
   ]
  },
  {
   "cell_type": "markdown",
   "metadata": {},
   "source": [
    "# Spider"
   ]
  },
  {
   "cell_type": "markdown",
   "metadata": {},
   "source": [
    "## Fetch_sub_url"
   ]
  },
  {
   "cell_type": "code",
   "execution_count": 2,
   "metadata": {
    "code_folding": [
     0
    ]
   },
   "outputs": [],
   "source": [
    "def Fetch_sub_url(stock_symbol, page_num):\n",
    "    headers = {\"Refer\": \"https://xueqiu.com/k?q=%E9%99%90%E5%94%AE%E8%82%A1%E8%A7%A3%E7%A6%81\",\n",
    "               \"Host\": \"xueqiu.com\",\n",
    "               \"Cookie\": \"your Cookie\",\n",
    "               \"User-Agent\": '{}'.format(UserAgent().random),\n",
    "               }\n",
    "    while True:\n",
    "        try:\n",
    "            url = 'https://xueqiu.com/query/v1/symbol/search/status.json?count=10&comment=0&symbol={}&hl=0&source=all&sort=&page={}&q=&type=11'.format(stock_symbol, page_num)\n",
    "            \n",
    "            print(\"Layer-1, 开始请求: Fetch_sub_url\", url)\n",
    "            response = requests.get(url, headers=headers, verify=False, timeout=300)\n",
    "            if response.status_code == 200:\n",
    "                content = response.text \n",
    "                json_content = json.loads(content)\n",
    "                json_list = json_content['list']\n",
    "                return json_list\n",
    "            else:\n",
    "                print(\"Layer-1, 非200, 请求代码是 is {}, 等待重新请求 : {}\".format(response.status_code, url))\n",
    "                time.sleep(5)\n",
    "                continue\n",
    "        except Exception as e:\n",
    "            print(e)\n",
    "            print(\"Layer-1,报错 休息，继续\")\n",
    "            time.sleep(5)\n",
    "            continue\n",
    "        break "
   ]
  },
  {
   "cell_type": "markdown",
   "metadata": {},
   "source": [
    "## Fetch_one_Post_Content"
   ]
  },
  {
   "cell_type": "code",
   "execution_count": 85,
   "metadata": {
    "code_folding": [
     0
    ]
   },
   "outputs": [],
   "source": [
    "def Fetch_one_Post_Content(stock_symbol, sub_url, post_time):\n",
    "    headers = {\"Refer\": \"https://xueqiu.com/k?q=%E9%99%90%E5%94%AE%E8%82%A1%E8%A7%A3%E7%A6%81\",\n",
    "               \"Host\": \"xueqiu.com\",\n",
    "               \"Cookie\": \"your Cookie\",\n",
    "               \"User-Agent\": '{}'.format(UserAgent().random),\n",
    "               }\n",
    "    \n",
    "    while True:\n",
    "        try:\n",
    "            full_post_url = \"https://xueqiu.com\" + sub_url\n",
    "            print(\"Layer-2, 开始请求: Fetch_one_Post_Content\", full_post_url)\n",
    "            response = requests.get(full_post_url, headers=headers, timeout=300)\n",
    "            response.encoding = response.apparent_encoding\n",
    "            if response.status_code == 200:\n",
    "                # print(\"Layer-2, 请求200 : {}\".format(full_post_url))\n",
    "                soup = BeautifulSoup(response.text)\n",
    "                pattern = re.compile(\"article__bd__detail.*?\")  # 按标签寻找\n",
    "                page_info = soup.find_all(\"div\", {'class': pattern})[0].get_text()\n",
    "\n",
    "                user_id = int(page_info.split('com/')[1].split('/')[0])\n",
    "                post_content = page_info.split(\"）\")[1:]  # 这里的括号一定是中文的括号！\n",
    "                post_content = \"\".join(post_content)\n",
    "                \n",
    "                images = soup.findAll('img')\n",
    "                image_meme = 'Nan' # 防止有的帖子没有图片\n",
    "                meme_list = []\n",
    "                for image in images[1:]:\n",
    "                    try:\n",
    "                        image_meme = image['alt']\n",
    "                        meme_list.append(image_meme)\n",
    "                    except Exception as e:\n",
    "                        pass\n",
    "                # Go MySQL\n",
    "                Insert_Mysql(stock_symbol, post_time, user_id, meme_list, post_content)\n",
    "                break\n",
    "\n",
    "            else:\n",
    "                print(\"Layer-2, 非200，代码是 {} ，等待重新请求 {}\".format(response.status_code, full_post_url)) \n",
    "                time.sleep(5)  \n",
    "                continue\n",
    "\n",
    "        except Exception as e:\n",
    "            print(e)\n",
    "            print(\"Layer-2, 报错，休息，继续\")\n",
    "            time.sleep(5)\n",
    "            continue\n",
    "        break  \n"
   ]
  },
  {
   "cell_type": "markdown",
   "metadata": {},
   "source": [
    "# Fetch all stock symbol\n"
   ]
  },
  {
   "cell_type": "code",
   "execution_count": 4,
   "metadata": {
    "code_folding": [
     0
    ]
   },
   "outputs": [],
   "source": [
    "def Transfer_Ts_stock_code(ts_code_list):\n",
    "    stock_code_list = ts_code_list\n",
    "    stock_code_list_for_Xueqiu = []\n",
    "    for stock_code in stock_code_list:\n",
    "        num = stock_code.split('.')[0]\n",
    "        exchange = stock_code.split('.')[1]\n",
    "        stock_code_list_for_Xueqiu.append(exchange+num)\n",
    "    return stock_code_list_for_Xueqiu"
   ]
  },
  {
   "cell_type": "code",
   "execution_count": 5,
   "metadata": {},
   "outputs": [],
   "source": [
    "import tushare as ts\n",
    "ts.set_token('yout token')\n",
    "ts_api = ts.pro_api()   \n",
    "Df_stocks_set = ts_api.query('stock_basic', exchange='', list_status='L',fields='ts_code')\n",
    "stock_symbol_list = Transfer_Ts_stock_code(Df_stocks_set['ts_code'])"
   ]
  },
  {
   "cell_type": "markdown",
   "metadata": {},
   "source": [
    "# MySQL"
   ]
  },
  {
   "cell_type": "code",
   "execution_count": 6,
   "metadata": {},
   "outputs": [],
   "source": [
    "import pymysql"
   ]
  },
  {
   "cell_type": "markdown",
   "metadata": {},
   "source": [
    "## (#) init stock table"
   ]
  },
  {
   "cell_type": "code",
   "execution_count": 115,
   "metadata": {
    "code_folding": [
     0
    ]
   },
   "outputs": [],
   "source": [
    "def init_stock_table(stock_symbol_list, start_time):\n",
    "\n",
    "    db = pymysql.connect(\n",
    "        host='your ip',\n",
    "        user='root',\n",
    "        password='passwd',\n",
    "        database='XueQiu_Posts'\n",
    "        )\n",
    "    cursor = db.cursor()\n",
    "    \n",
    "    for stock_symbol in stock_symbol_list:\n",
    "        sql_create_table = \"\"\"\n",
    "            CREATE TABLE `{}` (\n",
    "            `Date` datetime(6) DEFAULT NULL,\n",
    "            `User_ID` char(64) DEFAULT NULL,\n",
    "            `Meme` varchar(255) CHARACTER SET utf8 DEFAULT NULL,\n",
    "            `Text` varchar(1024) CHARACTER SET utf8 DEFAULT NULL\n",
    "            ) ENGINE=InnoDB DEFAULT CHARSET=latin1;\"\"\".format(stock_symbol)\n",
    "        \n",
    "        datetime, userid, meme, text = \"2022-01-16 00:00:00\", 12345, \"[大笑]\", \"文本测试\"\n",
    "        sql_insert_init_data = \"\"\"\n",
    "            INSERT INTO `{}`(Date,\n",
    "            User_ID, Meme, Text)\n",
    "            VALUES ('{}', {}, '{}', '{}')\"\"\".format(stock_symbol, datetime, userid, meme, text)\n",
    "        try:\n",
    "            cursor.execute(sql_create_table)\n",
    "            cursor.execute(sql_insert_init_data)\n",
    "            return_info = cursor.fetchall()\n",
    "            db.commit()\n",
    "        except:\n",
    "            db.rollback()\n",
    "    db.close()\n",
    "\n"
   ]
  },
  {
   "cell_type": "code",
   "execution_count": 8,
   "metadata": {},
   "outputs": [],
   "source": [
    "import pymysql "
   ]
  },
  {
   "cell_type": "code",
   "execution_count": 116,
   "metadata": {},
   "outputs": [
    {
     "name": "stdout",
     "output_type": "stream",
     "text": [
      "CPU times: user 3.92 s, sys: 1.73 s, total: 5.65 s\n",
      "Wall time: 8min 7s\n"
     ]
    }
   ],
   "source": [
    "%%time\n",
    "start_time = \"2022-01-16 00:00:00\"\n",
    "init_stock_table(stock_symbol_list, start_time)"
   ]
  },
  {
   "cell_type": "markdown",
   "metadata": {},
   "source": [
    "## Fetch_all_table_name"
   ]
  },
  {
   "cell_type": "code",
   "execution_count": 113,
   "metadata": {},
   "outputs": [],
   "source": [
    "def Fetch_all_table_name():\n",
    "    db = pymysql.connect(\n",
    "        host='yout ip',\n",
    "        user='root',\n",
    "        password='passwd',\n",
    "        database='XueQiu_Posts'\n",
    "        )\n",
    "    cursor = db.cursor()\n",
    "    \n",
    "    sql = \"show tables;\"\n",
    "\n",
    "    try:\n",
    "        cursor.execute(sql)\n",
    "        return_info = cursor.fetchall()\n",
    "        table_name_list = []\n",
    "        for i in return_info:\n",
    "            table_name_list.append(i[0])\n",
    "        db.commit()\n",
    "    except:\n",
    "        db.rollback()\n",
    "\n",
    "    db.close()\n",
    "    return table_name_list\n"
   ]
  },
  {
   "cell_type": "code",
   "execution_count": 117,
   "metadata": {},
   "outputs": [
    {
     "data": {
      "text/plain": [
       "4699"
      ]
     },
     "execution_count": 117,
     "metadata": {},
     "output_type": "execute_result"
    }
   ],
   "source": [
    "table_name_list = Fetch_all_table_name()\n",
    "len(table_name_list)"
   ]
  },
  {
   "cell_type": "markdown",
   "metadata": {},
   "source": [
    "## Fetch_latest_DateTime"
   ]
  },
  {
   "cell_type": "code",
   "execution_count": 112,
   "metadata": {
    "code_folding": [
     0
    ]
   },
   "outputs": [],
   "source": [
    "def Fetch_latest_DateTime(stock_symbol):\n",
    "    db = pymysql.connect(\n",
    "        host='yout ip',\n",
    "        user='root',\n",
    "        password='passwd',\n",
    "        database='XueQiu_Posts'\n",
    "        )\n",
    "    cursor = db.cursor()\n",
    "    \n",
    "    sql = \"SELECT * FROM {} ORDER BY Date DESC LIMIT 1;\".format(stock_symbol)\n",
    "\n",
    "    try:\n",
    "        cursor.execute(sql)\n",
    "        return_info = cursor.fetchone()[0]\n",
    "        db.commit()\n",
    "    except:\n",
    "        db.rollback()\n",
    "\n",
    "    db.close()\n",
    "    return return_info\n"
   ]
  },
  {
   "cell_type": "code",
   "execution_count": 110,
   "metadata": {},
   "outputs": [
    {
     "ename": "UnboundLocalError",
     "evalue": "local variable 'return_info' referenced before assignment",
     "output_type": "error",
     "traceback": [
      "\u001b[0;31m---------------------------------------------------------------------------\u001b[0m",
      "\u001b[0;31mUnboundLocalError\u001b[0m                         Traceback (most recent call last)",
      "\u001b[0;32m<ipython-input-110-56371a53dc46>\u001b[0m in \u001b[0;36m<module>\u001b[0;34m\u001b[0m\n\u001b[0;32m----> 1\u001b[0;31m \u001b[0mreturn_info\u001b[0m \u001b[0;34m=\u001b[0m \u001b[0mFetch_latest_DateTime\u001b[0m\u001b[0;34m(\u001b[0m\u001b[0;34m'SZ300750'\u001b[0m\u001b[0;34m)\u001b[0m\u001b[0;34m\u001b[0m\u001b[0;34m\u001b[0m\u001b[0m\n\u001b[0m\u001b[1;32m      2\u001b[0m \u001b[0mprint\u001b[0m\u001b[0;34m(\u001b[0m\u001b[0mreturn_info\u001b[0m\u001b[0;34m)\u001b[0m\u001b[0;34m\u001b[0m\u001b[0;34m\u001b[0m\u001b[0m\n",
      "\u001b[0;32m<ipython-input-12-8413335c273f>\u001b[0m in \u001b[0;36mFetch_latest_DateTime\u001b[0;34m(stock_symbol)\u001b[0m\n\u001b[1;32m     18\u001b[0m \u001b[0;34m\u001b[0m\u001b[0m\n\u001b[1;32m     19\u001b[0m     \u001b[0mdb\u001b[0m\u001b[0;34m.\u001b[0m\u001b[0mclose\u001b[0m\u001b[0;34m(\u001b[0m\u001b[0;34m)\u001b[0m\u001b[0;34m\u001b[0m\u001b[0;34m\u001b[0m\u001b[0m\n\u001b[0;32m---> 20\u001b[0;31m     \u001b[0;32mreturn\u001b[0m \u001b[0mreturn_info\u001b[0m\u001b[0;34m\u001b[0m\u001b[0;34m\u001b[0m\u001b[0m\n\u001b[0m",
      "\u001b[0;31mUnboundLocalError\u001b[0m: local variable 'return_info' referenced before assignment"
     ]
    }
   ],
   "source": [
    "return_info = Fetch_latest_DateTime('SZ300750')\n",
    "print(return_info)"
   ]
  },
  {
   "cell_type": "markdown",
   "metadata": {},
   "source": [
    "## Insert_Mysql"
   ]
  },
  {
   "cell_type": "code",
   "execution_count": 106,
   "metadata": {},
   "outputs": [],
   "source": [
    "def Insert_Mysql(stock_symbol, post_time, user_id, meme_list, post_content):\n",
    "    db = pymysql.connect(\n",
    "            host='localhost',\n",
    "            user='root',\n",
    "            password='q123123.',\n",
    "            database='XueQiu_Posts'\n",
    "            )\n",
    "    cursor = db.cursor()\n",
    "    sql = \"\"\"\n",
    "        INSERT INTO `{}`(Date,\n",
    "        User_ID, Meme, Text)\n",
    "        VALUES ('{}', '{}', '{}', '{}')\"\"\".format(stock_symbol, post_time, user_id, meme_list, post_content)       \n",
    "    try:\n",
    "        cursor.execute(sql)\n",
    "        db.commit()\n",
    "        print(\"{}-----写入Ok-----\".format(post_time))\n",
    "    except:\n",
    "        db.rollback()\n",
    "\n",
    "    db.close() \n"
   ]
  },
  {
   "cell_type": "markdown",
   "metadata": {},
   "source": [
    "# Run Spider"
   ]
  },
  {
   "cell_type": "code",
   "execution_count": 108,
   "metadata": {},
   "outputs": [
    {
     "data": {
      "text/plain": [
       "4699"
      ]
     },
     "execution_count": 108,
     "metadata": {},
     "output_type": "execute_result"
    }
   ],
   "source": [
    "Symbol_list = Fetch_all_table_name()\n",
    "len(Symbol_list)"
   ]
  },
  {
   "cell_type": "code",
   "execution_count": 88,
   "metadata": {},
   "outputs": [
    {
     "name": "stdout",
     "output_type": "stream",
     "text": [
      "============Now stock_symbol is SZ300750 =============\n",
      "Layer-1, 开始请求: Fetch_sub_url https://xueqiu.com/query/v1/symbol/search/status.json?count=10&comment=0&symbol=SZ300750&hl=0&source=all&sort=&page=1&q=&type=11\n",
      "Layer-2, 开始请求: Fetch_one_Post_Content https://xueqiu.com/1940718073/209100047\n",
      "()\n",
      "Layer-2, 开始请求: Fetch_one_Post_Content https://xueqiu.com/5546231402/209099904\n",
      "()\n",
      "Layer-2, 开始请求: Fetch_one_Post_Content https://xueqiu.com/3764738488/209099427\n",
      "()\n",
      "Layer-2, 开始请求: Fetch_one_Post_Content https://xueqiu.com/2585015601/209099425\n",
      "()\n",
      "Layer-2, 开始请求: Fetch_one_Post_Content https://xueqiu.com/4756393418/209099402\n",
      "Layer-2, 开始请求: Fetch_one_Post_Content https://xueqiu.com/7522580280/209099389\n",
      "()\n",
      "Layer-2, 开始请求: Fetch_one_Post_Content https://xueqiu.com/7921559165/209099240\n",
      "()\n",
      "Layer-2, 开始请求: Fetch_one_Post_Content https://xueqiu.com/9797406529/209099057\n",
      "()\n",
      "Layer-2, 开始请求: Fetch_one_Post_Content https://xueqiu.com/1049625722/209098909\n",
      "()\n",
      "Layer-2, 开始请求: Fetch_one_Post_Content https://xueqiu.com/4943128145/209098848\n",
      "()\n",
      "Layer-1, 开始请求: Fetch_sub_url https://xueqiu.com/query/v1/symbol/search/status.json?count=10&comment=0&symbol=SZ300750&hl=0&source=all&sort=&page=2&q=&type=11\n",
      "Layer-2, 开始请求: Fetch_one_Post_Content https://xueqiu.com/1187397497/209098679\n",
      "()\n",
      "Layer-2, 开始请求: Fetch_one_Post_Content https://xueqiu.com/5669246763/209098360\n"
     ]
    },
    {
     "ename": "KeyboardInterrupt",
     "evalue": "",
     "output_type": "error",
     "traceback": [
      "\u001b[0;31m---------------------------------------------------------------------------\u001b[0m",
      "\u001b[0;31mKeyboardInterrupt\u001b[0m                         Traceback (most recent call last)",
      "\u001b[0;32m<ipython-input-88-3d87685d58d9>\u001b[0m in \u001b[0;36m<module>\u001b[0;34m\u001b[0m\n\u001b[1;32m     21\u001b[0m             \u001b[0;32mwhile\u001b[0m \u001b[0;32mTrue\u001b[0m\u001b[0;34m:\u001b[0m\u001b[0;34m\u001b[0m\u001b[0;34m\u001b[0m\u001b[0m\n\u001b[1;32m     22\u001b[0m                 \u001b[0;32mtry\u001b[0m\u001b[0;34m:\u001b[0m\u001b[0;34m\u001b[0m\u001b[0;34m\u001b[0m\u001b[0m\n\u001b[0;32m---> 23\u001b[0;31m                     \u001b[0mFetch_one_Post_Content\u001b[0m\u001b[0;34m(\u001b[0m\u001b[0mstock_symbol\u001b[0m\u001b[0;34m,\u001b[0m \u001b[0msub_url\u001b[0m\u001b[0;34m,\u001b[0m \u001b[0mpost_time\u001b[0m\u001b[0;34m)\u001b[0m\u001b[0;34m\u001b[0m\u001b[0;34m\u001b[0m\u001b[0m\n\u001b[0m\u001b[1;32m     24\u001b[0m                 \u001b[0;32mexcept\u001b[0m \u001b[0mException\u001b[0m \u001b[0;32mas\u001b[0m \u001b[0me\u001b[0m\u001b[0;34m:\u001b[0m\u001b[0;34m\u001b[0m\u001b[0;34m\u001b[0m\u001b[0m\n\u001b[1;32m     25\u001b[0m                     \u001b[0mprint\u001b[0m\u001b[0;34m(\u001b[0m\u001b[0;34m\"Layer-3, 报错，休息继续\"\u001b[0m\u001b[0;34m)\u001b[0m\u001b[0;34m\u001b[0m\u001b[0;34m\u001b[0m\u001b[0m\n",
      "\u001b[0;32m<ipython-input-85-15aafccb64ba>\u001b[0m in \u001b[0;36mFetch_one_Post_Content\u001b[0;34m(stock_symbol, sub_url, post_time)\u001b[0m\n\u001b[1;32m     11\u001b[0m             \u001b[0mprint\u001b[0m\u001b[0;34m(\u001b[0m\u001b[0;34m\"Layer-2, 开始请求: Fetch_one_Post_Content\"\u001b[0m\u001b[0;34m,\u001b[0m \u001b[0mfull_post_url\u001b[0m\u001b[0;34m)\u001b[0m\u001b[0;34m\u001b[0m\u001b[0;34m\u001b[0m\u001b[0m\n\u001b[1;32m     12\u001b[0m             \u001b[0mresponse\u001b[0m \u001b[0;34m=\u001b[0m \u001b[0mrequests\u001b[0m\u001b[0;34m.\u001b[0m\u001b[0mget\u001b[0m\u001b[0;34m(\u001b[0m\u001b[0mfull_post_url\u001b[0m\u001b[0;34m,\u001b[0m \u001b[0mheaders\u001b[0m\u001b[0;34m=\u001b[0m\u001b[0mheaders\u001b[0m\u001b[0;34m,\u001b[0m \u001b[0mtimeout\u001b[0m\u001b[0;34m=\u001b[0m\u001b[0;36m300\u001b[0m\u001b[0;34m)\u001b[0m\u001b[0;34m\u001b[0m\u001b[0;34m\u001b[0m\u001b[0m\n\u001b[0;32m---> 13\u001b[0;31m             \u001b[0mresponse\u001b[0m\u001b[0;34m.\u001b[0m\u001b[0mencoding\u001b[0m \u001b[0;34m=\u001b[0m \u001b[0mresponse\u001b[0m\u001b[0;34m.\u001b[0m\u001b[0mapparent_encoding\u001b[0m\u001b[0;34m\u001b[0m\u001b[0;34m\u001b[0m\u001b[0m\n\u001b[0m\u001b[1;32m     14\u001b[0m             \u001b[0;32mif\u001b[0m \u001b[0mresponse\u001b[0m\u001b[0;34m.\u001b[0m\u001b[0mstatus_code\u001b[0m \u001b[0;34m==\u001b[0m \u001b[0;36m200\u001b[0m\u001b[0;34m:\u001b[0m\u001b[0;34m\u001b[0m\u001b[0;34m\u001b[0m\u001b[0m\n\u001b[1;32m     15\u001b[0m                 \u001b[0;31m# print(\"Layer-2, 请求200 : {}\".format(full_post_url))\u001b[0m\u001b[0;34m\u001b[0m\u001b[0;34m\u001b[0m\u001b[0;34m\u001b[0m\u001b[0m\n",
      "\u001b[0;32m/Library/Frameworks/Python.framework/Versions/3.7/lib/python3.7/site-packages/requests/models.py\u001b[0m in \u001b[0;36mapparent_encoding\u001b[0;34m(self)\u001b[0m\n\u001b[1;32m    728\u001b[0m     \u001b[0;32mdef\u001b[0m \u001b[0mapparent_encoding\u001b[0m\u001b[0;34m(\u001b[0m\u001b[0mself\u001b[0m\u001b[0;34m)\u001b[0m\u001b[0;34m:\u001b[0m\u001b[0;34m\u001b[0m\u001b[0;34m\u001b[0m\u001b[0m\n\u001b[1;32m    729\u001b[0m         \u001b[0;34m\"\"\"The apparent encoding, provided by the chardet library.\"\"\"\u001b[0m\u001b[0;34m\u001b[0m\u001b[0;34m\u001b[0m\u001b[0m\n\u001b[0;32m--> 730\u001b[0;31m         \u001b[0;32mreturn\u001b[0m \u001b[0mchardet\u001b[0m\u001b[0;34m.\u001b[0m\u001b[0mdetect\u001b[0m\u001b[0;34m(\u001b[0m\u001b[0mself\u001b[0m\u001b[0;34m.\u001b[0m\u001b[0mcontent\u001b[0m\u001b[0;34m)\u001b[0m\u001b[0;34m[\u001b[0m\u001b[0;34m'encoding'\u001b[0m\u001b[0;34m]\u001b[0m\u001b[0;34m\u001b[0m\u001b[0;34m\u001b[0m\u001b[0m\n\u001b[0m\u001b[1;32m    731\u001b[0m \u001b[0;34m\u001b[0m\u001b[0m\n\u001b[1;32m    732\u001b[0m     \u001b[0;32mdef\u001b[0m \u001b[0miter_content\u001b[0m\u001b[0;34m(\u001b[0m\u001b[0mself\u001b[0m\u001b[0;34m,\u001b[0m \u001b[0mchunk_size\u001b[0m\u001b[0;34m=\u001b[0m\u001b[0;36m1\u001b[0m\u001b[0;34m,\u001b[0m \u001b[0mdecode_unicode\u001b[0m\u001b[0;34m=\u001b[0m\u001b[0;32mFalse\u001b[0m\u001b[0;34m)\u001b[0m\u001b[0;34m:\u001b[0m\u001b[0;34m\u001b[0m\u001b[0;34m\u001b[0m\u001b[0m\n",
      "\u001b[0;32m/Library/Frameworks/Python.framework/Versions/3.7/lib/python3.7/site-packages/chardet/__init__.py\u001b[0m in \u001b[0;36mdetect\u001b[0;34m(byte_str)\u001b[0m\n\u001b[1;32m     36\u001b[0m             \u001b[0mbyte_str\u001b[0m \u001b[0;34m=\u001b[0m \u001b[0mbytearray\u001b[0m\u001b[0;34m(\u001b[0m\u001b[0mbyte_str\u001b[0m\u001b[0;34m)\u001b[0m\u001b[0;34m\u001b[0m\u001b[0;34m\u001b[0m\u001b[0m\n\u001b[1;32m     37\u001b[0m     \u001b[0mdetector\u001b[0m \u001b[0;34m=\u001b[0m \u001b[0mUniversalDetector\u001b[0m\u001b[0;34m(\u001b[0m\u001b[0;34m)\u001b[0m\u001b[0;34m\u001b[0m\u001b[0;34m\u001b[0m\u001b[0m\n\u001b[0;32m---> 38\u001b[0;31m     \u001b[0mdetector\u001b[0m\u001b[0;34m.\u001b[0m\u001b[0mfeed\u001b[0m\u001b[0;34m(\u001b[0m\u001b[0mbyte_str\u001b[0m\u001b[0;34m)\u001b[0m\u001b[0;34m\u001b[0m\u001b[0;34m\u001b[0m\u001b[0m\n\u001b[0m\u001b[1;32m     39\u001b[0m     \u001b[0;32mreturn\u001b[0m \u001b[0mdetector\u001b[0m\u001b[0;34m.\u001b[0m\u001b[0mclose\u001b[0m\u001b[0;34m(\u001b[0m\u001b[0;34m)\u001b[0m\u001b[0;34m\u001b[0m\u001b[0;34m\u001b[0m\u001b[0m\n",
      "\u001b[0;32m/Library/Frameworks/Python.framework/Versions/3.7/lib/python3.7/site-packages/chardet/universaldetector.py\u001b[0m in \u001b[0;36mfeed\u001b[0;34m(self, byte_str)\u001b[0m\n\u001b[1;32m    209\u001b[0m                 \u001b[0mself\u001b[0m\u001b[0;34m.\u001b[0m\u001b[0m_charset_probers\u001b[0m\u001b[0;34m.\u001b[0m\u001b[0mappend\u001b[0m\u001b[0;34m(\u001b[0m\u001b[0mLatin1Prober\u001b[0m\u001b[0;34m(\u001b[0m\u001b[0;34m)\u001b[0m\u001b[0;34m)\u001b[0m\u001b[0;34m\u001b[0m\u001b[0;34m\u001b[0m\u001b[0m\n\u001b[1;32m    210\u001b[0m             \u001b[0;32mfor\u001b[0m \u001b[0mprober\u001b[0m \u001b[0;32min\u001b[0m \u001b[0mself\u001b[0m\u001b[0;34m.\u001b[0m\u001b[0m_charset_probers\u001b[0m\u001b[0;34m:\u001b[0m\u001b[0;34m\u001b[0m\u001b[0;34m\u001b[0m\u001b[0m\n\u001b[0;32m--> 211\u001b[0;31m                 \u001b[0;32mif\u001b[0m \u001b[0mprober\u001b[0m\u001b[0;34m.\u001b[0m\u001b[0mfeed\u001b[0m\u001b[0;34m(\u001b[0m\u001b[0mbyte_str\u001b[0m\u001b[0;34m)\u001b[0m \u001b[0;34m==\u001b[0m \u001b[0mProbingState\u001b[0m\u001b[0;34m.\u001b[0m\u001b[0mFOUND_IT\u001b[0m\u001b[0;34m:\u001b[0m\u001b[0;34m\u001b[0m\u001b[0;34m\u001b[0m\u001b[0m\n\u001b[0m\u001b[1;32m    212\u001b[0m                     self.result = {'encoding': prober.charset_name,\n\u001b[1;32m    213\u001b[0m                                    \u001b[0;34m'confidence'\u001b[0m\u001b[0;34m:\u001b[0m \u001b[0mprober\u001b[0m\u001b[0;34m.\u001b[0m\u001b[0mget_confidence\u001b[0m\u001b[0;34m(\u001b[0m\u001b[0;34m)\u001b[0m\u001b[0;34m,\u001b[0m\u001b[0;34m\u001b[0m\u001b[0;34m\u001b[0m\u001b[0m\n",
      "\u001b[0;32m/Library/Frameworks/Python.framework/Versions/3.7/lib/python3.7/site-packages/chardet/charsetgroupprober.py\u001b[0m in \u001b[0;36mfeed\u001b[0;34m(self, byte_str)\u001b[0m\n\u001b[1;32m     69\u001b[0m             \u001b[0;32mif\u001b[0m \u001b[0;32mnot\u001b[0m \u001b[0mprober\u001b[0m\u001b[0;34m.\u001b[0m\u001b[0mactive\u001b[0m\u001b[0;34m:\u001b[0m\u001b[0;34m\u001b[0m\u001b[0;34m\u001b[0m\u001b[0m\n\u001b[1;32m     70\u001b[0m                 \u001b[0;32mcontinue\u001b[0m\u001b[0;34m\u001b[0m\u001b[0;34m\u001b[0m\u001b[0m\n\u001b[0;32m---> 71\u001b[0;31m             \u001b[0mstate\u001b[0m \u001b[0;34m=\u001b[0m \u001b[0mprober\u001b[0m\u001b[0;34m.\u001b[0m\u001b[0mfeed\u001b[0m\u001b[0;34m(\u001b[0m\u001b[0mbyte_str\u001b[0m\u001b[0;34m)\u001b[0m\u001b[0;34m\u001b[0m\u001b[0;34m\u001b[0m\u001b[0m\n\u001b[0m\u001b[1;32m     72\u001b[0m             \u001b[0;32mif\u001b[0m \u001b[0;32mnot\u001b[0m \u001b[0mstate\u001b[0m\u001b[0;34m:\u001b[0m\u001b[0;34m\u001b[0m\u001b[0;34m\u001b[0m\u001b[0m\n\u001b[1;32m     73\u001b[0m                 \u001b[0;32mcontinue\u001b[0m\u001b[0;34m\u001b[0m\u001b[0;34m\u001b[0m\u001b[0m\n",
      "\u001b[0;32m/Library/Frameworks/Python.framework/Versions/3.7/lib/python3.7/site-packages/chardet/sbcharsetprober.py\u001b[0m in \u001b[0;36mfeed\u001b[0;34m(self, byte_str)\u001b[0m\n\u001b[1;32m     91\u001b[0m             \u001b[0;31m#      _total_char purposes.\u001b[0m\u001b[0;34m\u001b[0m\u001b[0;34m\u001b[0m\u001b[0;34m\u001b[0m\u001b[0m\n\u001b[1;32m     92\u001b[0m             \u001b[0;32mif\u001b[0m \u001b[0morder\u001b[0m \u001b[0;34m<\u001b[0m \u001b[0mCharacterCategory\u001b[0m\u001b[0;34m.\u001b[0m\u001b[0mCONTROL\u001b[0m\u001b[0;34m:\u001b[0m\u001b[0;34m\u001b[0m\u001b[0;34m\u001b[0m\u001b[0m\n\u001b[0;32m---> 93\u001b[0;31m                 \u001b[0mself\u001b[0m\u001b[0;34m.\u001b[0m\u001b[0m_total_char\u001b[0m \u001b[0;34m+=\u001b[0m \u001b[0;36m1\u001b[0m\u001b[0;34m\u001b[0m\u001b[0;34m\u001b[0m\u001b[0m\n\u001b[0m\u001b[1;32m     94\u001b[0m             \u001b[0;32mif\u001b[0m \u001b[0morder\u001b[0m \u001b[0;34m<\u001b[0m \u001b[0mself\u001b[0m\u001b[0;34m.\u001b[0m\u001b[0mSAMPLE_SIZE\u001b[0m\u001b[0;34m:\u001b[0m\u001b[0;34m\u001b[0m\u001b[0;34m\u001b[0m\u001b[0m\n\u001b[1;32m     95\u001b[0m                 \u001b[0mself\u001b[0m\u001b[0;34m.\u001b[0m\u001b[0m_freq_char\u001b[0m \u001b[0;34m+=\u001b[0m \u001b[0;36m1\u001b[0m\u001b[0;34m\u001b[0m\u001b[0;34m\u001b[0m\u001b[0m\n",
      "\u001b[0;31mKeyboardInterrupt\u001b[0m: "
     ]
    }
   ],
   "source": [
    "\n",
    "for stock_symbol in Symbol_list:\n",
    "    print(\"============Now stock_symbol is {} =============\".format(stock_symbol))\n",
    "    symbol_break = 0\n",
    "    only_run_once = 0\n",
    "    for i in range(1, 101):\n",
    "        json_list = Fetch_sub_url(stock_symbol, page_num=i)\n",
    "        for json_meta in json_list:\n",
    "            timestamp = int(json_meta['created_at'] / 1000)\n",
    "            dateArray = datetime.utcfromtimestamp(timestamp) + timedelta(hours=8)\n",
    "            post_time = dateArray.strftime(\"%Y-%m-%d %H:%M:%S\")\n",
    "            sub_url = json_meta['target']\n",
    "\n",
    "            if only_run_once == 0:\n",
    "                latest_date = Fetch_latest_DateTime(stock_symbol)\n",
    "                only_run_once = 1 \n",
    "            else:\n",
    "                pass\n",
    "\n",
    "            if pd.to_datetime(post_time) > latest_date:\n",
    "                while True:\n",
    "                    try:\n",
    "                        Fetch_one_Post_Content(stock_symbol, sub_url, post_time)\n",
    "                    except Exception as e:\n",
    "                        print(\"Layer-3, 报错，休息继续\")\n",
    "                        print(e)\n",
    "                        time.sleep(5)\n",
    "                        continue\n",
    "                    break\n",
    "            else:\n",
    "                symbol_break = 1\n",
    "                print(\"----------------该Symbol的数据都爬过了，更换Symbol----------------\")\n",
    "                print(\"\\n\")\n",
    "                break \n",
    "        if symbol_break == 1:\n",
    "            break  "
   ]
  }
 ],
 "metadata": {
  "kernelspec": {
   "display_name": "Python 3",
   "language": "python",
   "name": "python3"
  },
  "language_info": {
   "codemirror_mode": {
    "name": "ipython",
    "version": 3
   },
   "file_extension": ".py",
   "mimetype": "text/x-python",
   "name": "python",
   "nbconvert_exporter": "python",
   "pygments_lexer": "ipython3",
   "version": "3.7.2"
  },
  "toc": {
   "base_numbering": 1,
   "nav_menu": {},
   "number_sections": true,
   "sideBar": true,
   "skip_h1_title": false,
   "title_cell": "Table of Contents",
   "title_sidebar": "Contents",
   "toc_cell": false,
   "toc_position": {},
   "toc_section_display": true,
   "toc_window_display": true
  },
  "varInspector": {
   "cols": {
    "lenName": 16,
    "lenType": 16,
    "lenVar": 40
   },
   "kernels_config": {
    "python": {
     "delete_cmd_postfix": "",
     "delete_cmd_prefix": "del ",
     "library": "var_list.py",
     "varRefreshCmd": "print(var_dic_list())"
    },
    "r": {
     "delete_cmd_postfix": ") ",
     "delete_cmd_prefix": "rm(",
     "library": "var_list.r",
     "varRefreshCmd": "cat(var_dic_list()) "
    }
   },
   "types_to_exclude": [
    "module",
    "function",
    "builtin_function_or_method",
    "instance",
    "_Feature"
   ],
   "window_display": false
  }
 },
 "nbformat": 4,
 "nbformat_minor": 4
}
