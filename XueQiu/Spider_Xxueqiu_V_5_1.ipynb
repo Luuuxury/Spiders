{
 "cells": [
  {
   "cell_type": "code",
   "execution_count": 1,
   "metadata": {
    "ExecuteTime": {
     "end_time": "2022-02-05T03:51:37.062680Z",
     "start_time": "2022-02-05T03:51:35.465262Z"
    }
   },
   "outputs": [],
   "source": [
    "import time\n",
    "import requests\n",
    "from datetime import datetime, timedelta\n",
    "from bs4 import BeautifulSoup\n",
    "from fake_useragent import UserAgent\n",
    "import re\n",
    "import json \n",
    "import warnings\n",
    "import pandas as pd \n",
    "import pymysql\n",
    "import tushare as ts\n",
    "\n",
    "warnings.filterwarnings('ignore')"
   ]
  },
  {
   "cell_type": "markdown",
   "metadata": {},
   "source": [
    "# (#) Fetch all stock symbol\n"
   ]
  },
  {
   "cell_type": "code",
   "execution_count": 7,
   "metadata": {
    "ExecuteTime": {
     "end_time": "2022-01-17T03:33:00.298346Z",
     "start_time": "2022-01-17T03:33:00.290443Z"
    },
    "code_folding": [
     0
    ]
   },
   "outputs": [],
   "source": [
    "def Transfer_Ts_stock_code(ts_code_list):\n",
    "    stock_code_list = ts_code_list\n",
    "    stock_code_list_for_Xueqiu = []\n",
    "    for stock_code in stock_code_list:\n",
    "        num = stock_code.split('.')[0]\n",
    "        exchange = stock_code.split('.')[1]\n",
    "        stock_code_list_for_Xueqiu.append(exchange+num)\n",
    "    return stock_code_list_for_Xueqiu"
   ]
  },
  {
   "cell_type": "code",
   "execution_count": 8,
   "metadata": {
    "ExecuteTime": {
     "end_time": "2022-01-17T03:33:04.245592Z",
     "start_time": "2022-01-17T03:33:02.363722Z"
    }
   },
   "outputs": [],
   "source": [
    "ts.set_token('your token')\n",
    "ts_api = ts.pro_api()   \n",
    "Df_stocks_set = ts_api.query('stock_basic', exchange='', list_status='L',fields='ts_code')\n",
    "stock_symbol_list = Transfer_Ts_stock_code(Df_stocks_set['ts_code'])"
   ]
  },
  {
   "cell_type": "markdown",
   "metadata": {},
   "source": [
    "# MySQL"
   ]
  },
  {
   "cell_type": "markdown",
   "metadata": {},
   "source": [
    "## (#) init stock table"
   ]
  },
  {
   "cell_type": "code",
   "execution_count": 9,
   "metadata": {
    "ExecuteTime": {
     "end_time": "2022-01-17T03:33:04.972399Z",
     "start_time": "2022-01-17T03:33:04.963373Z"
    },
    "code_folding": []
   },
   "outputs": [],
   "source": [
    "def init_stock_table(stock_symbol_list, start_time):\n",
    "\n",
    "    db = pymysql.connect(\n",
    "        host='your ip',\n",
    "        user='root',\n",
    "        password='passwd',\n",
    "        database='XueQiu_Posts'\n",
    "        )\n",
    "    cursor = db.cursor()\n",
    "    \n",
    "    for stock_symbol in stock_symbol_list:\n",
    "        sql_create_table = \"\"\"\n",
    "            CREATE TABLE `{}` (\n",
    "            `Date` datetime(6) DEFAULT NULL,\n",
    "            `User_ID` char(64) DEFAULT NULL,\n",
    "            `Meme` varchar(255) CHARACTER SET utf8 DEFAULT NULL,\n",
    "            `Text` varchar(1024) CHARACTER SET utf8 DEFAULT NULL\n",
    "            ) ENGINE=InnoDB DEFAULT CHARSET=latin1;\"\"\".format(stock_symbol)\n",
    "        \n",
    "        userid, meme, text =  12345, \"[大笑]\", \"文本测试\"\n",
    "        sql_insert_init_data = \"\"\"\n",
    "            INSERT INTO `{}`(Date,\n",
    "            User_ID, Meme, Text)\n",
    "            VALUES ('{}', {}, '{}', '{}')\"\"\".format(stock_symbol, start_time, userid, meme, text)\n",
    "        try:\n",
    "            cursor.execute(sql_create_table)\n",
    "            cursor.execute(sql_insert_init_data)\n",
    "            return_info = cursor.fetchall()\n",
    "            db.commit()\n",
    "        except:\n",
    "            db.rollback()\n",
    "    db.close()\n",
    "\n"
   ]
  },
  {
   "cell_type": "code",
   "execution_count": 16,
   "metadata": {
    "ExecuteTime": {
     "end_time": "2022-01-17T03:00:57.200050Z",
     "start_time": "2022-01-17T02:52:33.964792Z"
    }
   },
   "outputs": [],
   "source": [
    "# start_time = \"2022-01-17 00:00:00\"\n",
    "# init_stock_table(stock_symbol_list, start_time)"
   ]
  },
  {
   "cell_type": "markdown",
   "metadata": {},
   "source": [
    "## Fetch_all_table_name"
   ]
  },
  {
   "cell_type": "code",
   "execution_count": 19,
   "metadata": {
    "ExecuteTime": {
     "end_time": "2022-02-05T04:00:35.507142Z",
     "start_time": "2022-02-05T04:00:35.478398Z"
    },
    "code_folding": []
   },
   "outputs": [],
   "source": [
    "def Fetch_all_table_name():\n",
    "    while True:\n",
    "        try:\n",
    "            db = pymysql.connect(\n",
    "                host='your ip',\n",
    "                user='root',\n",
    "                password='passwd',\n",
    "                database='XueQiu_Posts'\n",
    "                )\n",
    "            break\n",
    "        except Exception as e:\n",
    "            print(e)\n",
    "            print(\"wait a second will re-connect\")\n",
    "            time.sleep(10)\n",
    "            pass\n",
    "        \n",
    "    cursor = db.cursor() \n",
    "    \n",
    "    sql = \"show tables;\"\n",
    "\n",
    "    try:\n",
    "        cursor.execute(sql)\n",
    "        return_info = cursor.fetchall()\n",
    "        table_name_list = []\n",
    "        for i in return_info:\n",
    "            table_name_list.append(i[0])\n",
    "        db.commit()\n",
    "    except:\n",
    "        db.rollback()\n",
    "\n",
    "    db.close()\n",
    "    return table_name_list\n"
   ]
  },
  {
   "cell_type": "code",
   "execution_count": 21,
   "metadata": {
    "ExecuteTime": {
     "end_time": "2022-02-05T04:01:01.547918Z",
     "start_time": "2022-02-05T04:01:01.265625Z"
    }
   },
   "outputs": [
    {
     "data": {
      "text/plain": [
       "4699"
      ]
     },
     "execution_count": 21,
     "metadata": {},
     "output_type": "execute_result"
    }
   ],
   "source": [
    "table_name_list = Fetch_all_table_name()\n",
    "len(table_name_list)"
   ]
  },
  {
   "cell_type": "markdown",
   "metadata": {},
   "source": [
    "## Fetch_latest_DateTime"
   ]
  },
  {
   "cell_type": "code",
   "execution_count": 50,
   "metadata": {
    "ExecuteTime": {
     "end_time": "2022-02-05T04:13:17.403919Z",
     "start_time": "2022-02-05T04:13:17.377021Z"
    },
    "code_folding": [
     0
    ]
   },
   "outputs": [],
   "source": [
    "def Fetch_latest_DateTime(stock_symbol):\n",
    "    while True:\n",
    "        try:\n",
    "            db = pymysql.connect(\n",
    "                host='your ip',\n",
    "                user='root',\n",
    "                password='passwd',\n",
    "                database='XueQiu_Posts'\n",
    "                )\n",
    "            break\n",
    "        except Exception as e:\n",
    "            print(e)\n",
    "            print(\"wait a second will re-connect\")\n",
    "            time.sleep(10)\n",
    "            pass\n",
    "    cursor = db.cursor()\n",
    "    \n",
    "    sql = \"SELECT * FROM {} ORDER BY Date DESC LIMIT 1;\".format(stock_symbol)\n",
    "\n",
    "    try:\n",
    "        cursor.execute(sql)\n",
    "        return_info = cursor.fetchone()[0]\n",
    "        db.commit()\n",
    "    except:\n",
    "        db.rollback()\n",
    "\n",
    "    db.close()\n",
    "    return return_info\n"
   ]
  },
  {
   "cell_type": "code",
   "execution_count": 53,
   "metadata": {
    "ExecuteTime": {
     "end_time": "2022-02-05T04:14:00.669566Z",
     "start_time": "2022-02-05T04:13:49.227289Z"
    },
    "code_folding": [],
    "collapsed": true
   },
   "outputs": [
    {
     "name": "stdout",
     "output_type": "stream",
     "text": [
      "(2003, \"Can't connect to MySQL server on '39.101.221.162' ([Errno 51] Network is unreachable)\")\n",
      "wait a second will re-connect\n",
      "(2003, \"Can't connect to MySQL server on '39.101.221.162' ([Errno 51] Network is unreachable)\")\n",
      "wait a second will re-connect\n"
     ]
    },
    {
     "ename": "KeyboardInterrupt",
     "evalue": "",
     "output_type": "error",
     "traceback": [
      "\u001b[0;31m---------------------------------------------------------------------------\u001b[0m",
      "\u001b[0;31mOSError\u001b[0m                                   Traceback (most recent call last)",
      "\u001b[0;32m/Library/Frameworks/Python.framework/Versions/3.7/lib/python3.7/site-packages/pymysql/connections.py\u001b[0m in \u001b[0;36mconnect\u001b[0;34m(self, sock)\u001b[0m\n\u001b[1;32m    570\u001b[0m                                 \u001b[0;34m(\u001b[0m\u001b[0mself\u001b[0m\u001b[0;34m.\u001b[0m\u001b[0mhost\u001b[0m\u001b[0;34m,\u001b[0m \u001b[0mself\u001b[0m\u001b[0;34m.\u001b[0m\u001b[0mport\u001b[0m\u001b[0;34m)\u001b[0m\u001b[0;34m,\u001b[0m \u001b[0mself\u001b[0m\u001b[0;34m.\u001b[0m\u001b[0mconnect_timeout\u001b[0m\u001b[0;34m,\u001b[0m\u001b[0;34m\u001b[0m\u001b[0;34m\u001b[0m\u001b[0m\n\u001b[0;32m--> 571\u001b[0;31m                                 **kwargs)\n\u001b[0m\u001b[1;32m    572\u001b[0m                             \u001b[0;32mbreak\u001b[0m\u001b[0;34m\u001b[0m\u001b[0;34m\u001b[0m\u001b[0m\n",
      "\u001b[0;32m/Library/Frameworks/Python.framework/Versions/3.7/lib/python3.7/socket.py\u001b[0m in \u001b[0;36mcreate_connection\u001b[0;34m(address, timeout, source_address)\u001b[0m\n\u001b[1;32m    726\u001b[0m     \u001b[0;32mif\u001b[0m \u001b[0merr\u001b[0m \u001b[0;32mis\u001b[0m \u001b[0;32mnot\u001b[0m \u001b[0;32mNone\u001b[0m\u001b[0;34m:\u001b[0m\u001b[0;34m\u001b[0m\u001b[0;34m\u001b[0m\u001b[0m\n\u001b[0;32m--> 727\u001b[0;31m         \u001b[0;32mraise\u001b[0m \u001b[0merr\u001b[0m\u001b[0;34m\u001b[0m\u001b[0;34m\u001b[0m\u001b[0m\n\u001b[0m\u001b[1;32m    728\u001b[0m     \u001b[0;32melse\u001b[0m\u001b[0;34m:\u001b[0m\u001b[0;34m\u001b[0m\u001b[0;34m\u001b[0m\u001b[0m\n",
      "\u001b[0;32m/Library/Frameworks/Python.framework/Versions/3.7/lib/python3.7/socket.py\u001b[0m in \u001b[0;36mcreate_connection\u001b[0;34m(address, timeout, source_address)\u001b[0m\n\u001b[1;32m    715\u001b[0m                 \u001b[0msock\u001b[0m\u001b[0;34m.\u001b[0m\u001b[0mbind\u001b[0m\u001b[0;34m(\u001b[0m\u001b[0msource_address\u001b[0m\u001b[0;34m)\u001b[0m\u001b[0;34m\u001b[0m\u001b[0;34m\u001b[0m\u001b[0m\n\u001b[0;32m--> 716\u001b[0;31m             \u001b[0msock\u001b[0m\u001b[0;34m.\u001b[0m\u001b[0mconnect\u001b[0m\u001b[0;34m(\u001b[0m\u001b[0msa\u001b[0m\u001b[0;34m)\u001b[0m\u001b[0;34m\u001b[0m\u001b[0;34m\u001b[0m\u001b[0m\n\u001b[0m\u001b[1;32m    717\u001b[0m             \u001b[0;31m# Break explicitly a reference cycle\u001b[0m\u001b[0;34m\u001b[0m\u001b[0;34m\u001b[0m\u001b[0;34m\u001b[0m\u001b[0m\n",
      "\u001b[0;31mOSError\u001b[0m: [Errno 51] Network is unreachable",
      "\nDuring handling of the above exception, another exception occurred:\n",
      "\u001b[0;31mOperationalError\u001b[0m                          Traceback (most recent call last)",
      "\u001b[0;32m<ipython-input-50-e05366864285>\u001b[0m in \u001b[0;36mFetch_latest_DateTime\u001b[0;34m(stock_symbol)\u001b[0m\n\u001b[1;32m      7\u001b[0m                 \u001b[0mpassword\u001b[0m\u001b[0;34m=\u001b[0m\u001b[0;34m'q123123.'\u001b[0m\u001b[0;34m,\u001b[0m\u001b[0;34m\u001b[0m\u001b[0;34m\u001b[0m\u001b[0m\n\u001b[0;32m----> 8\u001b[0;31m                 \u001b[0mdatabase\u001b[0m\u001b[0;34m=\u001b[0m\u001b[0;34m'XueQiu_Posts'\u001b[0m\u001b[0;34m\u001b[0m\u001b[0;34m\u001b[0m\u001b[0m\n\u001b[0m\u001b[1;32m      9\u001b[0m                 )\n",
      "\u001b[0;32m/Library/Frameworks/Python.framework/Versions/3.7/lib/python3.7/site-packages/pymysql/__init__.py\u001b[0m in \u001b[0;36mConnect\u001b[0;34m(*args, **kwargs)\u001b[0m\n\u001b[1;32m     93\u001b[0m     \u001b[0;32mfrom\u001b[0m \u001b[0;34m.\u001b[0m\u001b[0mconnections\u001b[0m \u001b[0;32mimport\u001b[0m \u001b[0mConnection\u001b[0m\u001b[0;34m\u001b[0m\u001b[0;34m\u001b[0m\u001b[0m\n\u001b[0;32m---> 94\u001b[0;31m     \u001b[0;32mreturn\u001b[0m \u001b[0mConnection\u001b[0m\u001b[0;34m(\u001b[0m\u001b[0;34m*\u001b[0m\u001b[0margs\u001b[0m\u001b[0;34m,\u001b[0m \u001b[0;34m**\u001b[0m\u001b[0mkwargs\u001b[0m\u001b[0;34m)\u001b[0m\u001b[0;34m\u001b[0m\u001b[0;34m\u001b[0m\u001b[0m\n\u001b[0m\u001b[1;32m     95\u001b[0m \u001b[0;34m\u001b[0m\u001b[0m\n",
      "\u001b[0;32m/Library/Frameworks/Python.framework/Versions/3.7/lib/python3.7/site-packages/pymysql/connections.py\u001b[0m in \u001b[0;36m__init__\u001b[0;34m(self, host, user, password, database, port, unix_socket, charset, sql_mode, read_default_file, conv, use_unicode, client_flag, cursorclass, init_command, connect_timeout, ssl, read_default_group, compress, named_pipe, autocommit, db, passwd, local_infile, max_allowed_packet, defer_connect, auth_plugin_map, read_timeout, write_timeout, bind_address, binary_prefix, program_name, server_public_key)\u001b[0m\n\u001b[1;32m    326\u001b[0m         \u001b[0;32melse\u001b[0m\u001b[0;34m:\u001b[0m\u001b[0;34m\u001b[0m\u001b[0;34m\u001b[0m\u001b[0m\n\u001b[0;32m--> 327\u001b[0;31m             \u001b[0mself\u001b[0m\u001b[0;34m.\u001b[0m\u001b[0mconnect\u001b[0m\u001b[0;34m(\u001b[0m\u001b[0;34m)\u001b[0m\u001b[0;34m\u001b[0m\u001b[0;34m\u001b[0m\u001b[0m\n\u001b[0m\u001b[1;32m    328\u001b[0m \u001b[0;34m\u001b[0m\u001b[0m\n",
      "\u001b[0;32m/Library/Frameworks/Python.framework/Versions/3.7/lib/python3.7/site-packages/pymysql/connections.py\u001b[0m in \u001b[0;36mconnect\u001b[0;34m(self, sock)\u001b[0m\n\u001b[1;32m    618\u001b[0m                 \u001b[0;32mif\u001b[0m \u001b[0mDEBUG\u001b[0m\u001b[0;34m:\u001b[0m \u001b[0mprint\u001b[0m\u001b[0;34m(\u001b[0m\u001b[0mexc\u001b[0m\u001b[0;34m.\u001b[0m\u001b[0mtraceback\u001b[0m\u001b[0;34m)\u001b[0m\u001b[0;34m\u001b[0m\u001b[0;34m\u001b[0m\u001b[0m\n\u001b[0;32m--> 619\u001b[0;31m                 \u001b[0;32mraise\u001b[0m \u001b[0mexc\u001b[0m\u001b[0;34m\u001b[0m\u001b[0;34m\u001b[0m\u001b[0m\n\u001b[0m\u001b[1;32m    620\u001b[0m \u001b[0;34m\u001b[0m\u001b[0m\n",
      "\u001b[0;31mOperationalError\u001b[0m: (2003, \"Can't connect to MySQL server on '39.101.221.162' ([Errno 51] Network is unreachable)\")",
      "\nDuring handling of the above exception, another exception occurred:\n",
      "\u001b[0;31mKeyboardInterrupt\u001b[0m                         Traceback (most recent call last)",
      "\u001b[0;32m<ipython-input-53-035f271a2052>\u001b[0m in \u001b[0;36m<module>\u001b[0;34m\u001b[0m\n\u001b[0;32m----> 1\u001b[0;31m \u001b[0mreturn_info\u001b[0m \u001b[0;34m=\u001b[0m \u001b[0mFetch_latest_DateTime\u001b[0m\u001b[0;34m(\u001b[0m\u001b[0;34m'SZ300750'\u001b[0m\u001b[0;34m)\u001b[0m\u001b[0;34m\u001b[0m\u001b[0;34m\u001b[0m\u001b[0m\n\u001b[0m\u001b[1;32m      2\u001b[0m \u001b[0mprint\u001b[0m\u001b[0;34m(\u001b[0m\u001b[0mreturn_info\u001b[0m\u001b[0;34m)\u001b[0m\u001b[0;34m\u001b[0m\u001b[0;34m\u001b[0m\u001b[0m\n",
      "\u001b[0;32m<ipython-input-50-e05366864285>\u001b[0m in \u001b[0;36mFetch_latest_DateTime\u001b[0;34m(stock_symbol)\u001b[0m\n\u001b[1;32m     12\u001b[0m             \u001b[0mprint\u001b[0m\u001b[0;34m(\u001b[0m\u001b[0me\u001b[0m\u001b[0;34m)\u001b[0m\u001b[0;34m\u001b[0m\u001b[0;34m\u001b[0m\u001b[0m\n\u001b[1;32m     13\u001b[0m             \u001b[0mprint\u001b[0m\u001b[0;34m(\u001b[0m\u001b[0;34m\"wait a second will re-connect\"\u001b[0m\u001b[0;34m)\u001b[0m\u001b[0;34m\u001b[0m\u001b[0;34m\u001b[0m\u001b[0m\n\u001b[0;32m---> 14\u001b[0;31m             \u001b[0mtime\u001b[0m\u001b[0;34m.\u001b[0m\u001b[0msleep\u001b[0m\u001b[0;34m(\u001b[0m\u001b[0;36m10\u001b[0m\u001b[0;34m)\u001b[0m\u001b[0;34m\u001b[0m\u001b[0;34m\u001b[0m\u001b[0m\n\u001b[0m\u001b[1;32m     15\u001b[0m             \u001b[0;32mpass\u001b[0m\u001b[0;34m\u001b[0m\u001b[0;34m\u001b[0m\u001b[0m\n\u001b[1;32m     16\u001b[0m     \u001b[0mcursor\u001b[0m \u001b[0;34m=\u001b[0m \u001b[0mdb\u001b[0m\u001b[0;34m.\u001b[0m\u001b[0mcursor\u001b[0m\u001b[0;34m(\u001b[0m\u001b[0;34m)\u001b[0m\u001b[0;34m\u001b[0m\u001b[0;34m\u001b[0m\u001b[0m\n",
      "\u001b[0;31mKeyboardInterrupt\u001b[0m: "
     ]
    }
   ],
   "source": [
    "return_info = Fetch_latest_DateTime('SZ300750')\n",
    "print(return_info) "
   ]
  },
  {
   "cell_type": "markdown",
   "metadata": {},
   "source": [
    "## Insert_Mysql"
   ]
  },
  {
   "cell_type": "code",
   "execution_count": 49,
   "metadata": {
    "ExecuteTime": {
     "end_time": "2022-02-05T04:13:04.898793Z",
     "start_time": "2022-02-05T04:13:04.889242Z"
    },
    "code_folding": [
     0
    ]
   },
   "outputs": [],
   "source": [
    "def Insert_Mysql(stock_symbol, post_time, user_id, meme_list, post_content):\n",
    "    while True:\n",
    "        try:\n",
    "            db = pymysql.connect(\n",
    "                host='your ip',\n",
    "                user='root',\n",
    "                password='passwd',\n",
    "                database='XueQiu_Posts'\n",
    "                )\n",
    "            break\n",
    "        except Exception as e:\n",
    "            print(e)\n",
    "            print(\"wait a second will re-connect\")\n",
    "            time.sleep(10)\n",
    "            pass\n",
    "        \n",
    "    cursor = db.cursor()\n",
    "    sql = \"\"\"\n",
    "        INSERT INTO `{}`(Date,\n",
    "        User_ID, Meme, Text)\n",
    "        VALUES ('{}', '{}', '{}', '{}')\"\"\".format(stock_symbol, post_time, user_id, meme_list, post_content)\n",
    "    try:\n",
    "        cursor.execute(sql)\n",
    "        db.commit()\n",
    "        print(\"{}-----写入Ok-----\".format(post_time))\n",
    "    except:\n",
    "        db.rollback()\n",
    "\n",
    "    db.close() \n"
   ]
  },
  {
   "cell_type": "markdown",
   "metadata": {},
   "source": [
    "# Spider"
   ]
  },
  {
   "cell_type": "markdown",
   "metadata": {},
   "source": [
    "## Fetch_sub_url"
   ]
  },
  {
   "cell_type": "code",
   "execution_count": 54,
   "metadata": {
    "ExecuteTime": {
     "end_time": "2022-02-05T04:14:16.476859Z",
     "start_time": "2022-02-05T04:14:16.465227Z"
    },
    "code_folding": []
   },
   "outputs": [],
   "source": [
    "def Fetch_sub_url(stock_symbol, page_num):\n",
    "    headers = {\"Refer\": \"https://xueqiu.com/k?q=%E9%99%90%E5%94%AE%E8%82%A1%E8%A7%A3%E7%A6%81\",\n",
    "               \"Host\": \"xueqiu.com\",\n",
    "               \"Cookie\": \"\",\n",
    "               \"User-Agent\": '{}'.format(UserAgent().random),\n",
    "               }\n",
    "    while True:\n",
    "        try:\n",
    "            url = 'https://xueqiu.com/query/v1/symbol/search/status.json?count=10&comment=0&symbol={}&hl=0&source=all&sort=&page={}&q=&type=11'.format(stock_symbol, page_num)\n",
    "            \n",
    "            print(\"Layer-1, 开始请求: Fetch_sub_url\", url)\n",
    "            response = requests.get(url, headers=headers, verify=False, timeout=300)\n",
    "            if response.status_code == 200:\n",
    "                content = response.text \n",
    "                json_content = json.loads(content)\n",
    "                json_list = json_content['list']\n",
    "                return json_list\n",
    "            elif response.status_code == 404:\n",
    "                break\n",
    "            else:\n",
    "                print(\"Layer-1, 非200, 请求代码是 is {}, 等待重新请求 : {}\".format(response.status_code, url))\n",
    "                time.sleep(5)\n",
    "                continue\n",
    "        except Exception as e:\n",
    "            print(e)\n",
    "            print(\"Layer-1,报错 休息，继续\")\n",
    "            time.sleep(5)\n",
    "            continue\n",
    "        break "
   ]
  },
  {
   "cell_type": "markdown",
   "metadata": {},
   "source": [
    "## Fetch_one_Post_Content"
   ]
  },
  {
   "cell_type": "code",
   "execution_count": 55,
   "metadata": {
    "ExecuteTime": {
     "end_time": "2022-02-05T04:14:18.337979Z",
     "start_time": "2022-02-05T04:14:18.321274Z"
    },
    "code_folding": []
   },
   "outputs": [],
   "source": [
    "def Fetch_one_Post_Content(stock_symbol, sub_url, post_time):\n",
    "    headers = {\"Refer\": \"https://xueqiu.com/k?q=%E9%99%90%E5%94%AE%E8%82%A1%E8%A7%A3%E7%A6%81\",\n",
    "               \"Host\": \"xueqiu.com\",\n",
    "               \"Cookie\": \"\",\n",
    "               \"User-Agent\": '{}'.format(UserAgent().random),\n",
    "               }\n",
    "    \n",
    "    while True:\n",
    "        try:\n",
    "            full_post_url = \"https://xueqiu.com\" + sub_url\n",
    "            print(\"Layer-2, 开始请求: Fetch_one_Post_Content\", full_post_url)\n",
    "            response = requests.get(full_post_url, headers=headers, timeout=300)\n",
    "            response.encoding = response.apparent_encoding\n",
    "            if response.status_code == 200:\n",
    "                # print(\"Layer-2, 请求200 : {}\".format(full_post_url))\n",
    "                soup = BeautifulSoup(response.text)\n",
    "                pattern = re.compile(\"article__bd__detail.*?\")  # 按标签寻找\n",
    "                page_info = soup.find_all(\"div\", {'class': pattern})[0].get_text()\n",
    "\n",
    "                user_id = int(page_info.split('com/')[1].split('/')[0])\n",
    "                post_content = page_info.split(\"）\")[1:]  # 这里的括号一定是中文的括号！\n",
    "                post_content = \"\".join(post_content)\n",
    "                \n",
    "                images = soup.findAll('img')\n",
    "                meme_list = []\n",
    "                for image in images[1:]:\n",
    "                    try:\n",
    "                        image_meme = image['alt']\n",
    "                        meme_list.append(image_meme)\n",
    "                    except Exception as e:\n",
    "                        continue\n",
    "                meme_list = \"\".join(meme_list)\n",
    "                # Go MySQL\n",
    "                Insert_Mysql(stock_symbol, post_time, user_id, meme_list, post_content)\n",
    "                break\n",
    "            \n",
    "            elif response.status_code == 404:\n",
    "                break\n",
    "            else:\n",
    "                print(\"Layer-2, 非200/404，代码是 {} ，等待重新请求 {}\".format(response.status_code, full_post_url)) \n",
    "                time.sleep(5)  \n",
    "                continue\n",
    "        except Exception as e:\n",
    "            print(e)\n",
    "            print(\"Layer-2, 报错，休息，继续\")\n",
    "            time.sleep(5)\n",
    "            if \"range\" in str(e):\n",
    "                break\n",
    "            else:\n",
    "                continue\n",
    "        break  \n"
   ]
  },
  {
   "cell_type": "markdown",
   "metadata": {},
   "source": [
    "# Run Spider"
   ]
  },
  {
   "cell_type": "code",
   "execution_count": 36,
   "metadata": {
    "ExecuteTime": {
     "end_time": "2022-02-05T04:07:59.402244Z",
     "start_time": "2022-02-05T04:07:59.154598Z"
    }
   },
   "outputs": [],
   "source": [
    "# Symbol_list = Fetch_all_table_name()\n",
    "# len(Symbol_list)"
   ]
  },
  {
   "cell_type": "code",
   "execution_count": 1,
   "metadata": {
    "ExecuteTime": {
     "end_time": "2022-02-05T09:46:35.157615Z",
     "start_time": "2022-02-05T09:46:34.987309Z"
    },
    "code_folding": []
   },
   "outputs": [
    {
     "ename": "NameError",
     "evalue": "name 'Fetch_all_table_name' is not defined",
     "output_type": "error",
     "traceback": [
      "\u001b[0;31m---------------------------------------------------------------------------\u001b[0m",
      "\u001b[0;31mNameError\u001b[0m                                 Traceback (most recent call last)",
      "\u001b[0;32m<ipython-input-1-226ed32ee1d0>\u001b[0m in \u001b[0;36m<module>\u001b[0;34m\u001b[0m\n\u001b[0;32m----> 1\u001b[0;31m \u001b[0mSymbol_list\u001b[0m \u001b[0;34m=\u001b[0m \u001b[0mFetch_all_table_name\u001b[0m\u001b[0;34m(\u001b[0m\u001b[0;34m)\u001b[0m\u001b[0;34m\u001b[0m\u001b[0;34m\u001b[0m\u001b[0m\n\u001b[0m\u001b[1;32m      2\u001b[0m \u001b[0;32mfor\u001b[0m \u001b[0mstock_symbol\u001b[0m \u001b[0;32min\u001b[0m \u001b[0mSymbol_list\u001b[0m\u001b[0;34m:\u001b[0m\u001b[0;34m\u001b[0m\u001b[0;34m\u001b[0m\u001b[0m\n\u001b[1;32m      3\u001b[0m \u001b[0;31m# stock_symbol = \"\"\u001b[0m\u001b[0;34m\u001b[0m\u001b[0;34m\u001b[0m\u001b[0;34m\u001b[0m\u001b[0m\n\u001b[1;32m      4\u001b[0m     \u001b[0mprint\u001b[0m\u001b[0;34m(\u001b[0m\u001b[0;34m\"============Now stock_symbol is {} =============\"\u001b[0m\u001b[0;34m.\u001b[0m\u001b[0mformat\u001b[0m\u001b[0;34m(\u001b[0m\u001b[0mstock_symbol\u001b[0m\u001b[0;34m)\u001b[0m\u001b[0;34m)\u001b[0m\u001b[0;34m\u001b[0m\u001b[0;34m\u001b[0m\u001b[0m\n\u001b[1;32m      5\u001b[0m     \u001b[0msymbol_break\u001b[0m \u001b[0;34m=\u001b[0m \u001b[0;36m0\u001b[0m\u001b[0;34m\u001b[0m\u001b[0;34m\u001b[0m\u001b[0m\n",
      "\u001b[0;31mNameError\u001b[0m: name 'Fetch_all_table_name' is not defined"
     ]
    }
   ],
   "source": [
    "Symbol_list = Fetch_all_table_name()\n",
    "for stock_symbol in Symbol_list:\n",
    "# stock_symbol = \"\"\n",
    "    print(\"============Now stock_symbol is {} =============\".format(stock_symbol))\n",
    "    symbol_break = 0\n",
    "    only_run_once = 0\n",
    "    for i in range(1, 101):\n",
    "        json_list = Fetch_sub_url(stock_symbol, page_num=i)\n",
    "        for json_meta in json_list:\n",
    "            timestamp = int(json_meta['created_at'] / 1000)\n",
    "            dateArray = datetime.utcfromtimestamp(timestamp) + timedelta(hours=8)\n",
    "            post_time = dateArray.strftime(\"%Y-%m-%d %H:%M:%S\")\n",
    "            sub_url = json_meta['target']\n",
    "\n",
    "            if only_run_once == 0:\n",
    "                latest_date = Fetch_latest_DateTime(stock_symbol)\n",
    "                only_run_once = 1 \n",
    "            else:\n",
    "                pass\n",
    "\n",
    "            if pd.to_datetime(post_time) > latest_date:\n",
    "                while True:\n",
    "                    try:\n",
    "                        time.sleep(0.5)\n",
    "                        Fetch_one_Post_Content(stock_symbol, sub_url, post_time)\n",
    "                    except Exception as e:\n",
    "                        print(\"Layer-3, 报错，休息继续\")\n",
    "                        print(e)\n",
    "                        time.sleep(5)\n",
    "                        continue\n",
    "                    break\n",
    "            else:\n",
    "                symbol_break = 1\n",
    "                print(\"----------------该Symbol的数据都爬过了，更换Symbol----------------\")\n",
    "                print(\"\\n\")\n",
    "                time.sleep(0.5)\n",
    "                break \n",
    "        if symbol_break == 1:\n",
    "            break    "
   ]
  },
  {
   "cell_type": "markdown",
   "metadata": {},
   "source": [
    "# Tail"
   ]
  }
 ],
 "metadata": {
  "kernelspec": {
   "display_name": "Python 3",
   "language": "python",
   "name": "python3"
  },
  "language_info": {
   "codemirror_mode": {
    "name": "ipython",
    "version": 3
   },
   "file_extension": ".py",
   "mimetype": "text/x-python",
   "name": "python",
   "nbconvert_exporter": "python",
   "pygments_lexer": "ipython3",
   "version": "3.7.2"
  },
  "toc": {
   "base_numbering": 1,
   "nav_menu": {},
   "number_sections": true,
   "sideBar": true,
   "skip_h1_title": false,
   "title_cell": "Table of Contents",
   "title_sidebar": "Contents",
   "toc_cell": false,
   "toc_position": {},
   "toc_section_display": true,
   "toc_window_display": true
  },
  "varInspector": {
   "cols": {
    "lenName": 16,
    "lenType": 16,
    "lenVar": 40
   },
   "kernels_config": {
    "python": {
     "delete_cmd_postfix": "",
     "delete_cmd_prefix": "del ",
     "library": "var_list.py",
     "varRefreshCmd": "print(var_dic_list())"
    },
    "r": {
     "delete_cmd_postfix": ") ",
     "delete_cmd_prefix": "rm(",
     "library": "var_list.r",
     "varRefreshCmd": "cat(var_dic_list()) "
    }
   },
   "types_to_exclude": [
    "module",
    "function",
    "builtin_function_or_method",
    "instance",
    "_Feature"
   ],
   "window_display": false
  }
 },
 "nbformat": 4,
 "nbformat_minor": 4
}
